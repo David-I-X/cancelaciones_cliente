{
 "cells": [
  {
   "cell_type": "code",
   "execution_count": 9,
   "metadata": {},
   "outputs": [],
   "source": [
    "# 1. 📦 Librerías\n",
    "import pandas as pd\n",
    "import matplotlib.pyplot as plt\n",
    "import seaborn as sns\n",
    "\n",
    "# Configuraciones generales\n",
    "sns.set(style=\"whitegrid\")\n",
    "plt.rcParams['figure.figsize'] = (10, 6)"
   ]
  },
  {
   "cell_type": "code",
   "execution_count": 10,
   "metadata": {},
   "outputs": [],
   "source": [
    "def limpiar_datos(df):\n",
    "    # 1. ✅ Renombrar columnas clave\n",
    "    df = df.rename(columns={\n",
    "        'churn': 'cancelacion',\n",
    "        'customerid': 'id_cliente',\n",
    "        'account_contract': 'tipo_contrato',\n",
    "        'account_paperlessbilling': 'facturacion_electronica',\n",
    "        'account_paymentmethod': 'metodo_pago',\n",
    "        'account_monthlycharges': 'cargo_mensual',\n",
    "        'account_totalcharges': 'cargo_total',\n",
    "        'customer_gender': 'genero',\n",
    "        'customer_seniorcitizen': 'adulto_mayor',\n",
    "        'customer_dependents': 'tiene_dependientes',\n",
    "        'customer_partner': 'tiene_pareja',\n",
    "        'internet_internetservice': 'tipo_internet',\n",
    "        'internet_onlinesecurity': 'seguridad_online',\n",
    "        'internet_onlinebackup': 'respaldo_online',\n",
    "        'internet_deviceprotection': 'proteccion_dispositivo',\n",
    "        'internet_techsupport': 'soporte_tecnico',\n",
    "        'internet_streamingtv': 'tv_streaming',\n",
    "        'internet_streamingmovies': 'peliculas_streaming',\n",
    "        'phone_phoneservice': 'tiene_telefono',\n",
    "        'phone_multiplelines': 'lineas_multiples'\n",
    "    })\n",
    "\n",
    "    # 2. ✅ Traducir valores de cancelación\n",
    "    df['cancelacion'] = df['cancelacion'].map({'Yes': 'Canceló', 'No': 'Retenido'})\n",
    "\n",
    "    # 3. ✅ Traducir valores booleanos comunes\n",
    "    booleanas = [\n",
    "        'facturacion_electronica', 'tiene_dependientes', 'tiene_pareja',\n",
    "        'seguridad_online', 'respaldo_online', 'proteccion_dispositivo',\n",
    "        'soporte_tecnico', 'tv_streaming', 'peliculas_streaming',\n",
    "        'tiene_telefono', 'lineas_multiples'\n",
    "    ]\n",
    "    for col in booleanas:\n",
    "        if col in df.columns:\n",
    "            df[col] = df[col].replace({'Yes': 'Sí', 'No': 'No'})\n",
    "\n",
    "    # 4. ✅ Adulto mayor como texto\n",
    "    if 'adulto_mayor' in df.columns:\n",
    "        df['adulto_mayor'] = df['adulto_mayor'].map({0: 'No', 1: 'Sí'})\n",
    "\n",
    "    return df"
   ]
  },
  {
   "cell_type": "code",
   "execution_count": 12,
   "metadata": {},
   "outputs": [
    {
     "data": {
      "text/html": [
       "<div>\n",
       "<style scoped>\n",
       "    .dataframe tbody tr th:only-of-type {\n",
       "        vertical-align: middle;\n",
       "    }\n",
       "\n",
       "    .dataframe tbody tr th {\n",
       "        vertical-align: top;\n",
       "    }\n",
       "\n",
       "    .dataframe thead th {\n",
       "        text-align: right;\n",
       "    }\n",
       "</style>\n",
       "<table border=\"1\" class=\"dataframe\">\n",
       "  <thead>\n",
       "    <tr style=\"text-align: right;\">\n",
       "      <th></th>\n",
       "      <th>id_cliente</th>\n",
       "      <th>cancelacion</th>\n",
       "      <th>genero</th>\n",
       "      <th>adulto_mayor</th>\n",
       "      <th>tiene_pareja</th>\n",
       "      <th>tiene_dependientes</th>\n",
       "      <th>customer_tenure</th>\n",
       "      <th>tiene_telefono</th>\n",
       "      <th>lineas_multiples</th>\n",
       "      <th>tipo_internet</th>\n",
       "      <th>...</th>\n",
       "      <th>respaldo_online</th>\n",
       "      <th>proteccion_dispositivo</th>\n",
       "      <th>soporte_tecnico</th>\n",
       "      <th>tv_streaming</th>\n",
       "      <th>peliculas_streaming</th>\n",
       "      <th>tipo_contrato</th>\n",
       "      <th>facturacion_electronica</th>\n",
       "      <th>metodo_pago</th>\n",
       "      <th>account_charges.monthly</th>\n",
       "      <th>account_charges.total</th>\n",
       "    </tr>\n",
       "  </thead>\n",
       "  <tbody>\n",
       "    <tr>\n",
       "      <th>0</th>\n",
       "      <td>0002-ORFBO</td>\n",
       "      <td>Retenido</td>\n",
       "      <td>Female</td>\n",
       "      <td>No</td>\n",
       "      <td>Sí</td>\n",
       "      <td>Sí</td>\n",
       "      <td>9</td>\n",
       "      <td>Sí</td>\n",
       "      <td>No</td>\n",
       "      <td>DSL</td>\n",
       "      <td>...</td>\n",
       "      <td>Sí</td>\n",
       "      <td>No</td>\n",
       "      <td>Sí</td>\n",
       "      <td>Sí</td>\n",
       "      <td>No</td>\n",
       "      <td>One year</td>\n",
       "      <td>Sí</td>\n",
       "      <td>Mailed check</td>\n",
       "      <td>65.6</td>\n",
       "      <td>593.3</td>\n",
       "    </tr>\n",
       "    <tr>\n",
       "      <th>1</th>\n",
       "      <td>0003-MKNFE</td>\n",
       "      <td>Retenido</td>\n",
       "      <td>Male</td>\n",
       "      <td>No</td>\n",
       "      <td>No</td>\n",
       "      <td>No</td>\n",
       "      <td>9</td>\n",
       "      <td>Sí</td>\n",
       "      <td>Sí</td>\n",
       "      <td>DSL</td>\n",
       "      <td>...</td>\n",
       "      <td>No</td>\n",
       "      <td>No</td>\n",
       "      <td>No</td>\n",
       "      <td>No</td>\n",
       "      <td>Sí</td>\n",
       "      <td>Month-to-month</td>\n",
       "      <td>No</td>\n",
       "      <td>Mailed check</td>\n",
       "      <td>59.9</td>\n",
       "      <td>542.4</td>\n",
       "    </tr>\n",
       "    <tr>\n",
       "      <th>2</th>\n",
       "      <td>0004-TLHLJ</td>\n",
       "      <td>Canceló</td>\n",
       "      <td>Male</td>\n",
       "      <td>No</td>\n",
       "      <td>No</td>\n",
       "      <td>No</td>\n",
       "      <td>4</td>\n",
       "      <td>Sí</td>\n",
       "      <td>No</td>\n",
       "      <td>Fiber optic</td>\n",
       "      <td>...</td>\n",
       "      <td>No</td>\n",
       "      <td>Sí</td>\n",
       "      <td>No</td>\n",
       "      <td>No</td>\n",
       "      <td>No</td>\n",
       "      <td>Month-to-month</td>\n",
       "      <td>Sí</td>\n",
       "      <td>Electronic check</td>\n",
       "      <td>73.9</td>\n",
       "      <td>280.85</td>\n",
       "    </tr>\n",
       "    <tr>\n",
       "      <th>3</th>\n",
       "      <td>0011-IGKFF</td>\n",
       "      <td>Canceló</td>\n",
       "      <td>Male</td>\n",
       "      <td>Sí</td>\n",
       "      <td>Sí</td>\n",
       "      <td>No</td>\n",
       "      <td>13</td>\n",
       "      <td>Sí</td>\n",
       "      <td>No</td>\n",
       "      <td>Fiber optic</td>\n",
       "      <td>...</td>\n",
       "      <td>Sí</td>\n",
       "      <td>Sí</td>\n",
       "      <td>No</td>\n",
       "      <td>Sí</td>\n",
       "      <td>Sí</td>\n",
       "      <td>Month-to-month</td>\n",
       "      <td>Sí</td>\n",
       "      <td>Electronic check</td>\n",
       "      <td>98.0</td>\n",
       "      <td>1237.85</td>\n",
       "    </tr>\n",
       "    <tr>\n",
       "      <th>4</th>\n",
       "      <td>0013-EXCHZ</td>\n",
       "      <td>Canceló</td>\n",
       "      <td>Female</td>\n",
       "      <td>Sí</td>\n",
       "      <td>Sí</td>\n",
       "      <td>No</td>\n",
       "      <td>3</td>\n",
       "      <td>Sí</td>\n",
       "      <td>No</td>\n",
       "      <td>Fiber optic</td>\n",
       "      <td>...</td>\n",
       "      <td>No</td>\n",
       "      <td>No</td>\n",
       "      <td>Sí</td>\n",
       "      <td>Sí</td>\n",
       "      <td>No</td>\n",
       "      <td>Month-to-month</td>\n",
       "      <td>Sí</td>\n",
       "      <td>Mailed check</td>\n",
       "      <td>83.9</td>\n",
       "      <td>267.4</td>\n",
       "    </tr>\n",
       "  </tbody>\n",
       "</table>\n",
       "<p>5 rows × 21 columns</p>\n",
       "</div>"
      ],
      "text/plain": [
       "   id_cliente cancelacion  genero adulto_mayor tiene_pareja  \\\n",
       "0  0002-ORFBO    Retenido  Female           No           Sí   \n",
       "1  0003-MKNFE    Retenido    Male           No           No   \n",
       "2  0004-TLHLJ     Canceló    Male           No           No   \n",
       "3  0011-IGKFF     Canceló    Male           Sí           Sí   \n",
       "4  0013-EXCHZ     Canceló  Female           Sí           Sí   \n",
       "\n",
       "  tiene_dependientes  customer_tenure tiene_telefono lineas_multiples  \\\n",
       "0                 Sí                9             Sí               No   \n",
       "1                 No                9             Sí               Sí   \n",
       "2                 No                4             Sí               No   \n",
       "3                 No               13             Sí               No   \n",
       "4                 No                3             Sí               No   \n",
       "\n",
       "  tipo_internet  ... respaldo_online proteccion_dispositivo soporte_tecnico  \\\n",
       "0           DSL  ...              Sí                     No              Sí   \n",
       "1           DSL  ...              No                     No              No   \n",
       "2   Fiber optic  ...              No                     Sí              No   \n",
       "3   Fiber optic  ...              Sí                     Sí              No   \n",
       "4   Fiber optic  ...              No                     No              Sí   \n",
       "\n",
       "  tv_streaming peliculas_streaming   tipo_contrato facturacion_electronica  \\\n",
       "0           Sí                  No        One year                      Sí   \n",
       "1           No                  Sí  Month-to-month                      No   \n",
       "2           No                  No  Month-to-month                      Sí   \n",
       "3           Sí                  Sí  Month-to-month                      Sí   \n",
       "4           Sí                  No  Month-to-month                      Sí   \n",
       "\n",
       "        metodo_pago account_charges.monthly  account_charges.total  \n",
       "0      Mailed check                    65.6                  593.3  \n",
       "1      Mailed check                    59.9                  542.4  \n",
       "2  Electronic check                    73.9                 280.85  \n",
       "3  Electronic check                    98.0                1237.85  \n",
       "4      Mailed check                    83.9                  267.4  \n",
       "\n",
       "[5 rows x 21 columns]"
      ]
     },
     "execution_count": 12,
     "metadata": {},
     "output_type": "execute_result"
    }
   ],
   "source": [
    "# 2. 📂 Cargar datos\n",
    "df = pd.read_csv(\"../data/datos_telecomx.csv\")\n",
    "df = limpiar_datos(df)\n",
    "df.head()"
   ]
  },
  {
   "cell_type": "markdown",
   "metadata": {},
   "source": [
    "# ***📌 Paso 1: Exploración inicial***"
   ]
  },
  {
   "cell_type": "code",
   "execution_count": 13,
   "metadata": {},
   "outputs": [
    {
     "name": "stdout",
     "output_type": "stream",
     "text": [
      "Información general del DataFrame\n",
      "<class 'pandas.core.frame.DataFrame'>\n",
      "RangeIndex: 7267 entries, 0 to 7266\n",
      "Data columns (total 21 columns):\n",
      " #   Column                   Non-Null Count  Dtype  \n",
      "---  ------                   --------------  -----  \n",
      " 0   id_cliente               7267 non-null   object \n",
      " 1   cancelacion              7043 non-null   object \n",
      " 2   genero                   7267 non-null   object \n",
      " 3   adulto_mayor             7267 non-null   object \n",
      " 4   tiene_pareja             7267 non-null   object \n",
      " 5   tiene_dependientes       7267 non-null   object \n",
      " 6   customer_tenure          7267 non-null   int64  \n",
      " 7   tiene_telefono           7267 non-null   object \n",
      " 8   lineas_multiples         7267 non-null   object \n",
      " 9   tipo_internet            7267 non-null   object \n",
      " 10  seguridad_online         7267 non-null   object \n",
      " 11  respaldo_online          7267 non-null   object \n",
      " 12  proteccion_dispositivo   7267 non-null   object \n",
      " 13  soporte_tecnico          7267 non-null   object \n",
      " 14  tv_streaming             7267 non-null   object \n",
      " 15  peliculas_streaming      7267 non-null   object \n",
      " 16  tipo_contrato            7267 non-null   object \n",
      " 17  facturacion_electronica  7267 non-null   object \n",
      " 18  metodo_pago              7267 non-null   object \n",
      " 19  account_charges.monthly  7267 non-null   float64\n",
      " 20  account_charges.total    7267 non-null   object \n",
      "dtypes: float64(1), int64(1), object(19)\n",
      "memory usage: 1.2+ MB\n"
     ]
    }
   ],
   "source": [
    "# 3. 🔍 Información general\n",
    "print('Información general del DataFrame')\n",
    "df.info()\n"
   ]
  },
  {
   "cell_type": "code",
   "execution_count": 14,
   "metadata": {},
   "outputs": [
    {
     "name": "stdout",
     "output_type": "stream",
     "text": [
      "Valores únicos por columna\n"
     ]
    },
    {
     "data": {
      "text/plain": [
       "cancelacion                   2\n",
       "genero                        2\n",
       "adulto_mayor                  2\n",
       "tiene_pareja                  2\n",
       "tiene_telefono                2\n",
       "tiene_dependientes            2\n",
       "facturacion_electronica       2\n",
       "tipo_internet                 3\n",
       "proteccion_dispositivo        3\n",
       "soporte_tecnico               3\n",
       "seguridad_online              3\n",
       "respaldo_online               3\n",
       "tv_streaming                  3\n",
       "peliculas_streaming           3\n",
       "tipo_contrato                 3\n",
       "lineas_multiples              3\n",
       "metodo_pago                   4\n",
       "customer_tenure              73\n",
       "account_charges.monthly    1585\n",
       "account_charges.total      6531\n",
       "id_cliente                 7267\n",
       "dtype: int64"
      ]
     },
     "execution_count": 14,
     "metadata": {},
     "output_type": "execute_result"
    }
   ],
   "source": [
    "# 4. 📊 Valores únicos por columna\n",
    "print('Valores únicos por columna')\n",
    "df.nunique().sort_values()"
   ]
  },
  {
   "cell_type": "code",
   "execution_count": 15,
   "metadata": {},
   "outputs": [
    {
     "name": "stdout",
     "output_type": "stream",
     "text": [
      "Valores nulos\n"
     ]
    },
    {
     "data": {
      "text/plain": [
       "cancelacion                224\n",
       "id_cliente                   0\n",
       "genero                       0\n",
       "adulto_mayor                 0\n",
       "tiene_pareja                 0\n",
       "tiene_dependientes           0\n",
       "customer_tenure              0\n",
       "tiene_telefono               0\n",
       "lineas_multiples             0\n",
       "tipo_internet                0\n",
       "seguridad_online             0\n",
       "respaldo_online              0\n",
       "proteccion_dispositivo       0\n",
       "soporte_tecnico              0\n",
       "tv_streaming                 0\n",
       "peliculas_streaming          0\n",
       "tipo_contrato                0\n",
       "facturacion_electronica      0\n",
       "metodo_pago                  0\n",
       "account_charges.monthly      0\n",
       "account_charges.total        0\n",
       "dtype: int64"
      ]
     },
     "execution_count": 15,
     "metadata": {},
     "output_type": "execute_result"
    }
   ],
   "source": [
    "# 5. ❌ Valores nulos\n",
    "print('Valores nulos')\n",
    "df.isnull().sum().sort_values(ascending=False)"
   ]
  },
  {
   "cell_type": "markdown",
   "metadata": {},
   "source": [
    "# ***📌 Paso 2: Distribución de la variable objetivo (churn)***"
   ]
  },
  {
   "cell_type": "code",
   "execution_count": 17,
   "metadata": {},
   "outputs": [
    {
     "data": {
      "image/png": "[encoded data removed]",
      "text/plain": [
       "<Figure size 1000x600 with 1 Axes>"
      ]
     },
     "metadata": {},
     "output_type": "display_data"
    },
    {
     "data": {
      "text/plain": [
       "cancelacion\n",
       "Retenido    0.73463\n",
       "Canceló     0.26537\n",
       "Name: proportion, dtype: float64"
      ]
     },
     "execution_count": 17,
     "metadata": {},
     "output_type": "execute_result"
    }
   ],
   "source": [
    "# 6. 📈 Distribución general\n",
    "sns.countplot(x=\"cancelacion\", data=df)\n",
    "plt.title(\"Distribución de clientes cancelados vs no cancelados\")\n",
    "plt.show()\n",
    "\n",
    "# Proporción\n",
    "df[\"cancelacion\"].value_counts(normalize=True)\n"
   ]
  },
  {
   "cell_type": "code",
   "execution_count": null,
   "metadata": {},
   "outputs": [],
   "source": []
  }
 ],
 "metadata": {
  "kernelspec": {
   "display_name": "venv",
   "language": "python",
   "name": "python3"
  },
  "language_info": {
   "codemirror_mode": {
    "name": "ipython",
    "version": 3
   },
   "file_extension": ".py",
   "mimetype": "text/x-python",
   "name": "python",
   "nbconvert_exporter": "python",
   "pygments_lexer": "ipython3",
   "version": "3.12.3"
  }
 },
 "nbformat": 4,
 "nbformat_minor": 2
}
